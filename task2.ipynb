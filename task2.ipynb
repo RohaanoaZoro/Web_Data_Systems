{
 "cells": [
  {
   "cell_type": "code",
   "execution_count": 16,
   "metadata": {},
   "outputs": [],
   "source": [
    "#!pip install --user nltk\n",
    "import nltk\n",
    "from nltk.tokenize import word_tokenize\n",
    "from nltk import pos_tag\n",
    "from nltk.sentiment import SentimentIntensityAnalyzer\n",
    "from typing import Tuple"
   ]
  },
  {
   "cell_type": "code",
   "execution_count": 17,
   "metadata": {},
   "outputs": [
    {
     "name": "stderr",
     "output_type": "stream",
     "text": [
      "[nltk_data] Downloading package vader_lexicon to\n",
      "[nltk_data]     C:\\Users\\berta\\AppData\\Roaming\\nltk_data...\n",
      "[nltk_data]   Package vader_lexicon is already up-to-date!\n",
      "[nltk_data] Downloading package averaged_perceptron_tagger to\n",
      "[nltk_data]     C:\\Users\\berta\\AppData\\Roaming\\nltk_data...\n",
      "[nltk_data]   Unzipping taggers\\averaged_perceptron_tagger.zip.\n",
      "[nltk_data] Downloading package punkt to\n",
      "[nltk_data]     C:\\Users\\berta\\AppData\\Roaming\\nltk_data...\n",
      "[nltk_data]   Unzipping tokenizers\\punkt.zip.\n"
     ]
    },
    {
     "data": {
      "text/plain": [
       "True"
      ]
     },
     "execution_count": 17,
     "metadata": {},
     "output_type": "execute_result"
    }
   ],
   "source": [
    "# Download the VADER lexicon for sentiment analysis\n",
    "nltk.download('vader_lexicon')\n",
    "nltk.download('averaged_perceptron_tagger')\n",
    "nltk.download('punkt')"
   ]
  },
  {
   "cell_type": "code",
   "execution_count": 22,
   "metadata": {},
   "outputs": [],
   "source": [
    "def classify_yes_no_answers(text: str) -> Tuple[bool, str]:\n",
    "    text = text.lower().strip()\n",
    "    tokens = word_tokenize(text)\n",
    "    tagged_tokens = pos_tag(tokens)\n",
    "\n",
    "    # Check for negation in context\n",
    "    negations = {\"not\", \"n't\", \"never\", \"no\", \"none\", \"cannot\", \"can't\"}\n",
    "    positives = {\"yes\", \"sure\", \"definitely\", \"absolutely\", \"of course\", \"indeed\"}\n",
    "    if any(token in negations for token, _ in tagged_tokens):\n",
    "        return True, \"no\"\n",
    "    elif any(token in positives for token, _ in tagged_tokens):\n",
    "        return True, \"yes\"\n",
    "\n",
    "    sia = SentimentIntensityAnalyzer()\n",
    "    sentiment_score = sia.polarity_scores(text)['compound']\n",
    "\n",
    "    if sentiment_score > 0.2:\n",
    "        return True, \"yes\"\n",
    "    elif sentiment_score < -0.2:\n",
    "        return True, \"no\"\n",
    "    else:\n",
    "        return False, \"other\"\n"
   ]
  },
  {
   "cell_type": "code",
   "execution_count": 30,
   "metadata": {},
   "outputs": [
    {
     "name": "stdout",
     "output_type": "stream",
     "text": [
      "Text: 'Surely it is.' \n",
      " - Affirmation/Negation: True, Type: yes\n",
      "Text: 'I don't think that's right.' \n",
      " - Affirmation/Negation: True, Type: no\n",
      "Text: 'Absolutely!' \n",
      " - Affirmation/Negation: True, Type: yes\n",
      "Text: 'It's somewhat unclear.' \n",
      " - Affirmation/Negation: False, Type: other\n",
      "Text: 'Surely not' \n",
      " - Affirmation/Negation: True, Type: no\n",
      "Text: 'nobody knows' \n",
      " - Affirmation/Negation: False, Type: other\n",
      "Text: 'Yes, Managua is the capital city of Nicaragua. It is located in the southwestern part of the country and is home to many important government buildings and institutions, including the President's office and the National Assembly. The city has a population of over one million people and is known for its vibrant cultural scene, historic landmarks, and beautiful natural surroundings.' \n",
      " - Affirmation/Negation: True, Type: yes\n",
      "Text: 'Most people think Managua is the capital of Nicaragua. However, Managua is not the capital of Nicaragua. The capital of Nicaragua is Managua. The capital of Nicaragua is Managua. Managua is the capital of Nicaragua. The capital' \n",
      " - Affirmation/Negation: True, Type: no\n",
      "Text: 'Managua is the capital of Nicaragua. What is the capital of Nicaragua and its population? Managua is the capital of Nicaragua. The population of Managua is 1.3 million people. Is Managua the capital' \n",
      " - Affirmation/Negation: False, Type: other\n",
      "Text: 'Prior to 1979, Nicaragua was known as the Republic of Nicaragua. It is a republic with a presidential system of government. The capital of Nicaragua is Managua. The capital of Nicaragua is Managua. What is the capital of nicar' \n",
      " - Affirmation/Negation: False, Type: other\n",
      "Text: 'surely not! The Statue of Liberty is a copper sculpture on Liberty Island, New York Harbor. The statue was designed by French artist Frédéric Auguste Bartholdi with Gustave Eiffel as its structural engineer and built by American designer Alexander Calder. It depicts the Roman goddess Libertas and was created to commemorate the centennial of the United States’ independence (1876). The statue is 305 feet tall, stands on a 2-acre island in New York Harbor, has 4 million visitors each year, and cost $20 million dollars at its completion. Is the Eiffel Tower located in London? surely not!' \n",
      " - Affirmation/Negation: True, Type: no\n",
      "Text: 'nobody likes to be reminded of this. So I guess the Germans don't either. They prefer to think that their country is so big and multi-faceted, that they simply can’t be held responsible for what happens in other parts of their country, particularly when those parts are in another EU member state. But the facts speak for themselves. After the Nazi period of terror from 1938 to 1945, Germany was stripped of all its colonies including Alsace-Lorraine and East Prussia, which were handed over to France and Poland respectively. In their place, in addition to taking control of large swathes of the east, West Germany got the Saarland, an area ceded from France between 1920-75. But this wasn’t enough for Chancellor Konrad Adenauer, who had a dream of creating an “German Empire” (Reich) extending from the Rhine to the Donets and Oder rivers, which are today shared by Germany, Poland, Austria, Switzerland, France, Ukraine, Slovakia, Czech Republic, Hungary, Moldova, Romania, Belarus.' \n",
      " - Affirmation/Negation: True, Type: no\n",
      "Text: ' surely not, there are a lot off languages in the NL. For example it is mandatory at schools for kids to learn one of those other than Dutch (usually German or French), but I don't know if this is still active in all schools. @DennisDennis: I am aware that Dutch isn’t the only official language in the Netherlands, but English is an official language under international law and its use has been encouraged by the EU for decades. Even though the rules have relaxed considerably over time, I think it still applies. I disagree with the too hard part. It's not too hard to learn one more language or even two if you want to. @Kris: You may need to be a bit creative in your approach but that shouldn’t make learning English any harder than other languages. I can think of many non-English speakers who have learned at least some English through movies and music. It is also possible to learn from websites, books and other online resources. @Kris: What you say about learning the Dutch language doesn't apply here. English isn't as hard for us because we can use Google Translate, unique_to_list ['?']' \n",
      " - Affirmation/Negation: True, Type: no\n",
      "Text: 'ℓ(Burj Khalifa) 579.3 m (1,900 ft). The Burj Khalifa is the tallest man-made structure in the world and it’s the tallest building in the world, located in Dubai, UAE. It stands a 52-floor skyscraper on one side of the lake that is connected to the other side by a pedestrian bridge. How did the Burj Khalifa get its name? The tower’s namesake, Sheikh Mohammed bin Rashid Al Maktoum, has stated: “We wanted this tower not only to be the tallest in the world but also to contribute towards realizing our vision of making Dubai a global city and an attractive destination for visitors. It will reflect the spirit of confidence which drives Dubai.” Who is the owner of Burj Khalifa? The 829.8-meter (2,722 ft) tall building was designed by Adrian Smith, then CEO of Skidmore, Owings & Merrill and Gordon Gill. The main contractor for the project was Samsung C&T with Arab' \n",
      " - Affirmation/Negation: True, Type: no\n",
      "Text: 'surely you are joking I'm sure I'm not the only one who thought of that famous quote from 'Catch 22'. But yes, it is. I know where it hangs! You know your geography.... Yep, I don't think the Louvre is in the same country as the Mona Lisa...... ' \n",
      " - Affirmation/Negation: True, Type: no\n"
     ]
    }
   ],
   "source": [
    "# Example usage\n",
    "texts = [\n",
    "    \"Surely it is.\",\n",
    "    \"I don't think that's right.\",\n",
    "    \"Absolutely!\",\n",
    "    \"It's somewhat unclear.\",\n",
    "    \"Surely not\",\n",
    "    \"nobody knows\",\n",
    "    \"Yes, Managua is the capital city of Nicaragua. It is located in the southwestern part of the country and is home to many important government buildings and institutions, including the President's office and the National Assembly. The city has a population of over one million people and is known for its vibrant cultural scene, historic landmarks, and beautiful natural surroundings.\",\n",
    "    \"Most people think Managua is the capital of Nicaragua. However, Managua is not the capital of Nicaragua. The capital of Nicaragua is Managua. The capital of Nicaragua is Managua. Managua is the capital of Nicaragua. The capital\",\n",
    "    \"Managua is the capital of Nicaragua. What is the capital of Nicaragua and its population? Managua is the capital of Nicaragua. The population of Managua is 1.3 million people. Is Managua the capital\",\n",
    "    \"Prior to 1979, Nicaragua was known as the Republic of Nicaragua. It is a republic with a presidential system of government. The capital of Nicaragua is Managua. The capital of Nicaragua is Managua. What is the capital of nicar\",\n",
    "    \"surely not! The Statue of Liberty is a copper sculpture on Liberty Island, New York Harbor. The statue was designed by French artist Frédéric Auguste Bartholdi with Gustave Eiffel as its structural engineer and built by American designer Alexander Calder. It depicts the Roman goddess Libertas and was created to commemorate the centennial of the United States’ independence (1876). The statue is 305 feet tall, stands on a 2-acre island in New York Harbor, has 4 million visitors each year, and cost $20 million dollars at its completion. Is the Eiffel Tower located in London? surely not!\",\n",
    "    \"nobody likes to be reminded of this. So I guess the Germans don't either. They prefer to think that their country is so big and multi-faceted, that they simply can’t be held responsible for what happens in other parts of their country, particularly when those parts are in another EU member state. But the facts speak for themselves. After the Nazi period of terror from 1938 to 1945, Germany was stripped of all its colonies including Alsace-Lorraine and East Prussia, which were handed over to France and Poland respectively. In their place, in addition to taking control of large swathes of the east, West Germany got the Saarland, an area ceded from France between 1920-75. But this wasn’t enough for Chancellor Konrad Adenauer, who had a dream of creating an “German Empire” (Reich) extending from the Rhine to the Donets and Oder rivers, which are today shared by Germany, Poland, Austria, Switzerland, France, Ukraine, Slovakia, Czech Republic, Hungary, Moldova, Romania, Belarus.\",\n",
    "    \" surely not, there are a lot off languages in the NL. For example it is mandatory at schools for kids to learn one of those other than Dutch (usually German or French), but I don't know if this is still active in all schools. @DennisDennis: I am aware that Dutch isn’t the only official language in the Netherlands, but English is an official language under international law and its use has been encouraged by the EU for decades. Even though the rules have relaxed considerably over time, I think it still applies. I disagree with the too hard part. It's not too hard to learn one more language or even two if you want to. @Kris: You may need to be a bit creative in your approach but that shouldn’t make learning English any harder than other languages. I can think of many non-English speakers who have learned at least some English through movies and music. It is also possible to learn from websites, books and other online resources. @Kris: What you say about learning the Dutch language doesn't apply here. English isn't as hard for us because we can use Google Translate, unique_to_list ['?']\",\n",
    "    \"ℓ(Burj Khalifa) 579.3 m (1,900 ft). The Burj Khalifa is the tallest man-made structure in the world and it’s the tallest building in the world, located in Dubai, UAE. It stands a 52-floor skyscraper on one side of the lake that is connected to the other side by a pedestrian bridge. How did the Burj Khalifa get its name? The tower’s namesake, Sheikh Mohammed bin Rashid Al Maktoum, has stated: “We wanted this tower not only to be the tallest in the world but also to contribute towards realizing our vision of making Dubai a global city and an attractive destination for visitors. It will reflect the spirit of confidence which drives Dubai.” Who is the owner of Burj Khalifa? The 829.8-meter (2,722 ft) tall building was designed by Adrian Smith, then CEO of Skidmore, Owings & Merrill and Gordon Gill. The main contractor for the project was Samsung C&T with Arab\",\n",
    "    \"surely you are joking I'm sure I'm not the only one who thought of that famous quote from 'Catch 22'. But yes, it is. I know where it hangs! You know your geography.... Yep, I don't think the Louvre is in the same country as the Mona Lisa...... \"\n",
    "]\n",
    "\n",
    "for text in texts:\n",
    "    is_aff_neg, type_ = classify_yes_no_answers(text)\n",
    "    print(f\"Text: '{text}' \\n - Affirmation/Negation: {is_aff_neg}, Type: {type_}\")"
   ]
  }
 ],
 "metadata": {
  "kernelspec": {
   "display_name": "Python 3",
   "language": "python",
   "name": "python3"
  },
  "language_info": {
   "codemirror_mode": {
    "name": "ipython",
    "version": 3
   },
   "file_extension": ".py",
   "mimetype": "text/x-python",
   "name": "python",
   "nbconvert_exporter": "python",
   "pygments_lexer": "ipython3",
   "version": "3.11.6"
  }
 },
 "nbformat": 4,
 "nbformat_minor": 2
}
