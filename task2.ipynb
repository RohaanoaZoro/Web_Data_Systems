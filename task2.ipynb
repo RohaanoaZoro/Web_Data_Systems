{
 "cells": [
  {
   "cell_type": "code",
   "execution_count": 16,
   "metadata": {},
   "outputs": [],
   "source": [
    "#!pip install --user nltk\n",
    "import nltk\n",
    "from nltk.tokenize import word_tokenize\n",
    "from nltk import pos_tag\n",
    "from nltk.sentiment import SentimentIntensityAnalyzer\n",
    "from typing import Tuple"
   ]
  },
  {
   "cell_type": "code",
   "execution_count": 17,
   "metadata": {},
   "outputs": [
    {
     "name": "stderr",
     "output_type": "stream",
     "text": [
      "[nltk_data] Downloading package vader_lexicon to\n",
      "[nltk_data]     C:\\Users\\berta\\AppData\\Roaming\\nltk_data...\n",
      "[nltk_data]   Package vader_lexicon is already up-to-date!\n",
      "[nltk_data] Downloading package averaged_perceptron_tagger to\n",
      "[nltk_data]     C:\\Users\\berta\\AppData\\Roaming\\nltk_data...\n",
      "[nltk_data]   Unzipping taggers\\averaged_perceptron_tagger.zip.\n",
      "[nltk_data] Downloading package punkt to\n",
      "[nltk_data]     C:\\Users\\berta\\AppData\\Roaming\\nltk_data...\n",
      "[nltk_data]   Unzipping tokenizers\\punkt.zip.\n"
     ]
    },
    {
     "data": {
      "text/plain": [
       "True"
      ]
     },
     "execution_count": 17,
     "metadata": {},
     "output_type": "execute_result"
    }
   ],
   "source": [
    "# Download the VADER lexicon for sentiment analysis\n",
    "nltk.download('vader_lexicon')\n",
    "nltk.download('averaged_perceptron_tagger')\n",
    "nltk.download('punkt')"
   ]
  },
  {
   "cell_type": "code",
   "execution_count": 22,
   "metadata": {},
   "outputs": [],
   "source": [
    "def classify_yes_no_answers(text: str) -> Tuple[bool, str]:\n",
    "    text = text.lower().strip()\n",
    "    tokens = word_tokenize(text)\n",
    "    tagged_tokens = pos_tag(tokens)\n",
    "\n",
    "    # Check for negation in context\n",
    "    negations = {\"not\", \"n't\", \"never\", \"no\", \"none\", \"cannot\", \"can't\"}\n",
    "    positives = {\"yes\", \"sure\", \"definitely\", \"absolutely\", \"of course\", \"indeed\"}\n",
    "    if any(token in negations for token, _ in tagged_tokens):\n",
    "        return True, \"no\"\n",
    "    elif any(token in positives for token, _ in tagged_tokens):\n",
    "        return True, \"yes\"\n",
    "\n",
    "    # Enhanced sentiment analysis\n",
    "    sia = SentimentIntensityAnalyzer()\n",
    "    sentiment_score = sia.polarity_scores(text)['compound']\n",
    "\n",
    "    if sentiment_score > 0.2:\n",
    "        return True, \"yes\"\n",
    "    elif sentiment_score < -0.2:\n",
    "        return True, \"no\"\n",
    "    else:\n",
    "        return False, \"other\"\n"
   ]
  },
  {
   "cell_type": "code",
   "execution_count": 25,
   "metadata": {},
   "outputs": [
    {
     "name": "stdout",
     "output_type": "stream",
     "text": [
      "Text: 'Surely it is.' \n",
      " - Affirmation/Negation: True, Type: yes\n",
      "Text: 'I don't think that's right.' \n",
      " - Affirmation/Negation: True, Type: no\n",
      "Text: 'Absolutely!' \n",
      " - Affirmation/Negation: True, Type: yes\n",
      "Text: 'It's somewhat unclear.' \n",
      " - Affirmation/Negation: False, Type: other\n",
      "Text: 'Surely not' \n",
      " - Affirmation/Negation: True, Type: no\n",
      "Text: 'nobody knows' \n",
      " - Affirmation/Negation: False, Type: other\n",
      "Text: 'Yes, Managua is the capital city of Nicaragua. It is located in the southwestern part of the country and is home to many important government buildings and institutions, including the President's office and the National Assembly. The city has a population of over one million people and is known for its vibrant cultural scene, historic landmarks, and beautiful natural surroundings.' \n",
      " - Affirmation/Negation: True, Type: yes\n",
      "Text: 'Most people think Managua is the capital of Nicaragua. However, Managua is not the capital of Nicaragua. The capital of Nicaragua is Managua. The capital of Nicaragua is Managua. Managua is the capital of Nicaragua. The capital' \n",
      " - Affirmation/Negation: True, Type: no\n",
      "Text: 'What is the capital of Nicaragua? Managua is the capital of Nicaragua. What is the capital of Nicaragua and its population? Managua is the capital of Nicaragua. The population of Managua is 1.3 million people. Is Managua the capital' \n",
      " - Affirmation/Negation: False, Type: other\n",
      "Text: 'Prior to 1979, Nicaragua was known as the Republic of Nicaragua. It is a republic with a presidential system of government. The capital of Nicaragua is Managua. The capital of Nicaragua is Managua. What is the capital of nicar' \n",
      " - Affirmation/Negation: False, Type: other\n",
      "Text: 'surely not! The Statue of Liberty is a copper sculpture on Liberty Island, New York Harbor. The statue was designed by French artist Frédéric Auguste Bartholdi with Gustave Eiffel as its structural engineer and built by American designer Alexander Calder. It depicts the Roman goddess Libertas and was created to commemorate the centennial of the United States’ independence (1876). The statue is 305 feet tall, stands on a 2-acre island in New York Harbor, has 4 million visitors each year, and cost $20 million dollars at its completion. Is the Eiffel Tower located in London? surely not!' \n",
      " - Affirmation/Negation: True, Type: no\n"
     ]
    }
   ],
   "source": [
    "# Example usage\n",
    "texts = [\n",
    "    \"Surely it is.\",\n",
    "    \"I don't think that's right.\",\n",
    "    \"Absolutely!\",\n",
    "    \"It's somewhat unclear.\",\n",
    "    \"Surely not\",\n",
    "    \"nobody knows\",\n",
    "    \"Yes, Managua is the capital city of Nicaragua. It is located in the southwestern part of the country and is home to many important government buildings and institutions, including the President's office and the National Assembly. The city has a population of over one million people and is known for its vibrant cultural scene, historic landmarks, and beautiful natural surroundings.\",\n",
    "    \"Most people think Managua is the capital of Nicaragua. However, Managua is not the capital of Nicaragua. The capital of Nicaragua is Managua. The capital of Nicaragua is Managua. Managua is the capital of Nicaragua. The capital\",\n",
    "    \"What is the capital of Nicaragua? Managua is the capital of Nicaragua. What is the capital of Nicaragua and its population? Managua is the capital of Nicaragua. The population of Managua is 1.3 million people. Is Managua the capital\",\n",
    "    \"Prior to 1979, Nicaragua was known as the Republic of Nicaragua. It is a republic with a presidential system of government. The capital of Nicaragua is Managua. The capital of Nicaragua is Managua. What is the capital of nicar\",\n",
    "    \"surely not! The Statue of Liberty is a copper sculpture on Liberty Island, New York Harbor. The statue was designed by French artist Frédéric Auguste Bartholdi with Gustave Eiffel as its structural engineer and built by American designer Alexander Calder. It depicts the Roman goddess Libertas and was created to commemorate the centennial of the United States’ independence (1876). The statue is 305 feet tall, stands on a 2-acre island in New York Harbor, has 4 million visitors each year, and cost $20 million dollars at its completion. Is the Eiffel Tower located in London? surely not!\"\n",
    "]\n",
    "\n",
    "for text in texts:\n",
    "    is_aff_neg, type_ = classify_yes_no_answers(text)\n",
    "    print(f\"Text: '{text}' \\n - Affirmation/Negation: {is_aff_neg}, Type: {type_}\")"
   ]
  }
 ],
 "metadata": {
  "kernelspec": {
   "display_name": "Python 3",
   "language": "python",
   "name": "python3"
  },
  "language_info": {
   "codemirror_mode": {
    "name": "ipython",
    "version": 3
   },
   "file_extension": ".py",
   "mimetype": "text/x-python",
   "name": "python",
   "nbconvert_exporter": "python",
   "pygments_lexer": "ipython3",
   "version": "3.11.6"
  }
 },
 "nbformat": 4,
 "nbformat_minor": 2
}
